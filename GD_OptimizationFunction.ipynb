{
 "cells": [
  {
   "attachments": {},
   "cell_type": "markdown",
   "metadata": {},
   "source": [
    "Find the minimum of(x-1) ^ 2 using gradient descentuadratic function optimization using python\n"
   ]
  },
  {
   "cell_type": "code",
   "execution_count": 18,
   "metadata": {},
   "outputs": [
    {
     "name": "stdout",
     "output_type": "stream",
     "text": [
      "1.0000000000000053\n"
     ]
    }
   ],
   "source": [
    "# Find the minimum of(x-1) ^ 2 using gradient descentuadratic function optimization using python\n",
    "\n",
    "x_old = 3\n",
    "learning_rate = 0.01\n",
    "y_new =  (x_old - 1) ** 2\n",
    "\n",
    "for i in range(50000):\n",
    "    y_new =  (x_old - 1) ** 2\n",
    "    GD = 2*(x_old-1)\n",
    "    x_old = x_old - learning_rate * GD\n",
    "    \n",
    "print(x_old)\n"
   ]
  },
  {
   "attachments": {},
   "cell_type": "markdown",
   "metadata": {},
   "source": [
    "Code 2"
   ]
  },
  {
   "cell_type": "code",
   "execution_count": 3,
   "metadata": {},
   "outputs": [
    {
     "name": "stdout",
     "output_type": "stream",
     "text": [
      "1.0000000000000053\n"
     ]
    }
   ],
   "source": [
    "# Find the minimum of(x-1) ^ 2 using gradient descentuadratic function optimization using python\n",
    "\n",
    "x_old = 3\n",
    "learning_rate = 0.01\n",
    "y_new = (x_old - 1) ** 2\n",
    "\n",
    "def Gradient_Descent (x_old):\n",
    "    return 2*(x_old-1)\n",
    "\n",
    "for i in range(50000):\n",
    "    y_new = (x_old - 1) ** 2\n",
    "    GD = Gradient_Descent(x_old)\n",
    "    x_old = x_old - learning_rate * GD\n",
    "\n",
    "print(x_old)\n",
    "\n",
    "\n",
    "# answer is 1.0000000000000053\n"
   ]
  }
 ],
 "metadata": {
  "kernelspec": {
   "display_name": "Python 3",
   "language": "python",
   "name": "python3"
  },
  "language_info": {
   "codemirror_mode": {
    "name": "ipython",
    "version": 3
   },
   "file_extension": ".py",
   "mimetype": "text/x-python",
   "name": "python",
   "nbconvert_exporter": "python",
   "pygments_lexer": "ipython3",
   "version": "3.9.9"
  },
  "orig_nbformat": 4,
  "vscode": {
   "interpreter": {
    "hash": "ce69d1e073b962b1e49d229bd6134b898e5eb8f95cba7e0467e79732c4008e96"
   }
  }
 },
 "nbformat": 4,
 "nbformat_minor": 2
}
